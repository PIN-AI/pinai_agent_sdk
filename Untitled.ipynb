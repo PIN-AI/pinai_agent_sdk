{
 "cells": [
  {
   "cell_type": "code",
   "execution_count": 1,
   "id": "4418d985-7051-4520-ad6e-e170a63272b6",
   "metadata": {},
   "outputs": [],
   "source": [
    "import os\n",
    "import logging\n",
    "import argparse\n",
    "import sys\n",
    "from pinai_agent_sdk import PINAIAgentSDK"
   ]
  },
  {
   "cell_type": "code",
   "execution_count": 6,
   "id": "2dc47d7b-5682-42c0-be23-00540efc70ee",
   "metadata": {},
   "outputs": [],
   "source": [
    "\n",
    "# Configure logging\n",
    "logging.basicConfig(\n",
    "    level=logging.INFO,\n",
    "    format='%(asctime)s - %(name)s - %(levelname)s - %(message)s',\n",
    "    handlers=[\n",
    "        logging.StreamHandler(),\n",
    "        logging.FileHandler('simple_agent.log')\n",
    "    ]\n",
    ")\n",
    "logger = logging.getLogger(\"SimpleAgent\")\n",
    "\n",
    "def handle_message(message):\n",
    "    \"\"\"\n",
    "    Handle messages received from the server\n",
    "    \n",
    "    Message format:\n",
    "    {\n",
    "        \"session_id\": \"session-id\",\n",
    "        \"id\": 12345,  # Message ID\n",
    "        \"content\": \"message content\",\n",
    "        \"created_at\": \"2025-03-05T12:30:00\"  # ISO 8601 timestamp\n",
    "    }\n",
    "    \"\"\"\n",
    "    logger.info(f\"Message received: {message}\")\n",
    "    \n",
    "    # Extract session_id from the message\n",
    "    session_id = message.get(\"session_id\")\n",
    "    if not session_id:\n",
    "        logger.error(\"Message missing session_id, cannot respond\")\n",
    "        return\n",
    "    \n",
    "    # Get the message content\n",
    "    content = message.get(\"content\", \"\")\n",
    "    \n",
    "    # Simple echo response\n",
    "    response = f\"You said: {content}\"\n",
    "    \n",
    "    # Send the response\n",
    "    client.send_message(\n",
    "        content=response,\n",
    "        session_id=session_id\n",
    "    )\n",
    "    logger.info(f\"Response sent: {response}\")"
   ]
  },
  {
   "cell_type": "code",
   "execution_count": 2,
   "id": "310c88f1-91cd-4745-895c-2767d6e81e28",
   "metadata": {},
   "outputs": [
    {
     "name": "stderr",
     "output_type": "stream",
     "text": [
      "2025-03-05 18:55:44,600 - PINAIAgentSDK - INFO - PINAIAgentSDK initialized with base URL: https://emute3dbtc.us-east-1.awsapprunner.com\n"
     ]
    }
   ],
   "source": [
    "client = PINAIAgentSDK(\n",
    "        api_key=\"pin_MTI0MDAwMTM6NTI5Mzg_Toouz5tmIo2WzCp8\"\n",
    "    )"
   ]
  },
  {
   "cell_type": "code",
   "execution_count": 4,
   "id": "108a280c-e464-4173-b35a-7d6e7fe55454",
   "metadata": {},
   "outputs": [
    {
     "name": "stderr",
     "output_type": "stream",
     "text": [
      "2025-03-05 18:56:15,950 - PINAIAgentSDK - INFO - Agent registered: Test (ID: 9)\n"
     ]
    }
   ],
   "source": [
    "response = client.register_agent(\n",
    "    name=\"Test\",\n",
    "    ticker=\"TEST\",\n",
    "    description=\"A simple echo agent that repeats user messages\",\n",
    "    cover=\"https://example.com/cover.jpg\"  # Optional\n",
    ")"
   ]
  },
  {
   "cell_type": "code",
   "execution_count": 5,
   "id": "e8976108-6fb4-4d86-b989-e420edbaf32a",
   "metadata": {},
   "outputs": [
    {
     "data": {
      "text/plain": [
       "{'id': 9,\n",
       " 'name': 'Test',\n",
       " 'ticker': 'TEST',\n",
       " 'cover': 'https://example.com/cover.jpg',\n",
       " 'description': 'A simple echo agent that repeats user messages',\n",
       " 'url': 'https://placeholder.com',\n",
       " 'created_at': '2025-03-05T10:56:15',\n",
       " 'updated_at': '2025-03-05T10:56:15'}"
      ]
     },
     "execution_count": 5,
     "metadata": {},
     "output_type": "execute_result"
    }
   ],
   "source": [
    "response"
   ]
  },
  {
   "cell_type": "code",
   "execution_count": 7,
   "id": "b21d3f63-ef7c-43b5-a363-c839adf5dddd",
   "metadata": {},
   "outputs": [
    {
     "name": "stderr",
     "output_type": "stream",
     "text": [
      "2025-03-05 18:56:52,055 - SimpleAgent - INFO - Agent registered successfully with ID: 9\n",
      "2025-03-05 18:56:52,057 - SimpleAgent - INFO - Starting to listen for messages...\n",
      "2025-03-05 18:56:52,060 - PINAIAgentSDK - INFO - Started listening for messages\n"
     ]
    }
   ],
   "source": [
    "agent_id = response.get(\"id\")\n",
    "logger.info(f\"Agent registered successfully with ID: {agent_id}\")\n",
    "\n",
    "# Start listening for messages\n",
    "logger.info(\"Starting to listen for messages...\")\n",
    "client.start(on_message_callback=handle_message)\n"
   ]
  },
  {
   "cell_type": "code",
   "execution_count": 9,
   "id": "aa5189bd-5cb5-489f-bb45-e0bbb4bc2dc4",
   "metadata": {},
   "outputs": [
    {
     "name": "stderr",
     "output_type": "stream",
     "text": [
      "2025-03-05 18:57:20,034 - PINAIAgentSDK - INFO - Running forever. Press Ctrl+C to stop.\n",
      "2025-03-05 18:57:37,470 - PINAIAgentSDK - INFO - Keyboard interrupt received, stopping...\n",
      "2025-03-05 18:57:39,203 - PINAIAgentSDK - INFO - Stopped listening for messages\n"
     ]
    }
   ],
   "source": [
    "client.run_forever()"
   ]
  },
  {
   "cell_type": "code",
   "execution_count": 11,
   "id": "4e4e4b2a-cd30-40e3-b093-5bc32e5e282d",
   "metadata": {},
   "outputs": [
    {
     "name": "stderr",
     "output_type": "stream",
     "text": [
      "2025-03-05 18:57:40,810 - PINAIAgentSDK - WARNING - No active polling thread to stop\n"
     ]
    }
   ],
   "source": [
    "client.stop()"
   ]
  },
  {
   "cell_type": "code",
   "execution_count": null,
   "id": "224c210c-b637-4562-a87c-a73ce3ae9b37",
   "metadata": {},
   "outputs": [],
   "source": []
  }
 ],
 "metadata": {
  "kernelspec": {
   "display_name": "Python 3 (ipykernel)",
   "language": "python",
   "name": "python3"
  },
  "language_info": {
   "codemirror_mode": {
    "name": "ipython",
    "version": 3
   },
   "file_extension": ".py",
   "mimetype": "text/x-python",
   "name": "python",
   "nbconvert_exporter": "python",
   "pygments_lexer": "ipython3",
   "version": "3.12.7"
  }
 },
 "nbformat": 4,
 "nbformat_minor": 5
}
