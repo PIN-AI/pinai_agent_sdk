{
 "cells": [
  {
   "cell_type": "code",
   "execution_count": 1,
   "id": "4418d985-7051-4520-ad6e-e170a63272b6",
   "metadata": {},
   "outputs": [],
   "source": [
    "import os\n",
    "import logging\n",
    "import argparse\n",
    "import sys\n",
    "from pinai_agent_sdk import PINAIAgentSDK"
   ]
  },
  {
   "cell_type": "code",
   "execution_count": 2,
   "id": "310c88f1-91cd-4745-895c-2767d6e81e28",
   "metadata": {},
   "outputs": [
    {
     "name": "stderr",
     "output_type": "stream",
     "text": [
      "2025-03-05 18:55:44,600 - PINAIAgentSDK - INFO - PINAIAgentSDK initialized with base URL: https://emute3dbtc.us-east-1.awsapprunner.com\n"
     ]
    }
   ],
   "source": [
    "client = PINAIAgentSDK(\n",
    "        api_key=\"pin_MTI0MDAwMTM6NTI5Mzg_Toouz5tmIo2WzCp8\"\n",
    "    )"
   ]
  },
  {
   "cell_type": "code",
   "execution_count": 3,
   "id": "108a280c-e464-4173-b35a-7d6e7fe55454",
   "metadata": {},
   "outputs": [
    {
     "data": {
      "text/plain": [
       "<pinai_agent_sdk.pinai_agent_sdk.PINAIAgentSDK at 0x10a102f00>"
      ]
     },
     "execution_count": 3,
     "metadata": {},
     "output_type": "execute_result"
    }
   ],
   "source": [
    "response = client.register_agent(\n",
    "    name=\"\",\n",
    "    ticker=\"\",\n",
    "    description=\"A simple echo agent that repeats user messages\",\n",
    "    cover=\"https://example.com/cover.jpg\"  # Optional\n",
    ")"
   ]
  },
  {
   "cell_type": "code",
   "execution_count": null,
   "id": "e8976108-6fb4-4d86-b989-e420edbaf32a",
   "metadata": {},
   "outputs": [],
   "source": []
  }
 ],
 "metadata": {
  "kernelspec": {
   "display_name": "Python 3 (ipykernel)",
   "language": "python",
   "name": "python3"
  },
  "language_info": {
   "codemirror_mode": {
    "name": "ipython",
    "version": 3
   },
   "file_extension": ".py",
   "mimetype": "text/x-python",
   "name": "python",
   "nbconvert_exporter": "python",
   "pygments_lexer": "ipython3",
   "version": "3.12.7"
  }
 },
 "nbformat": 4,
 "nbformat_minor": 5
}
